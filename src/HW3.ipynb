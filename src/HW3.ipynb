{
 "cells": [
  {
   "cell_type": "code",
   "execution_count": 7,
   "metadata": {},
   "outputs": [
    {
     "ename": "TypeError",
     "evalue": "Too few arguments for numpy.ndarray",
     "output_type": "error",
     "traceback": [
      "\u001b[0;31m---------------------------------------------------------------------------\u001b[0m",
      "\u001b[0;31mTypeError\u001b[0m                                 Traceback (most recent call last)",
      "\u001b[1;32m/home/skewballfox/Workspace/Classes/NumericAnalysis/NumericalAnalysisNotebooks/src/HW3.ipynb Cell 1'\u001b[0m in \u001b[0;36m<cell line: 5>\u001b[0;34m()\u001b[0m\n\u001b[1;32m      <a href='vscode-notebook-cell:/home/skewballfox/Workspace/Classes/NumericAnalysis/NumericalAnalysisNotebooks/src/HW3.ipynb#ch0000004?line=2'>3</a>\u001b[0m \u001b[39mimport\u001b[39;00m \u001b[39mmath\u001b[39;00m \n\u001b[1;32m      <a href='vscode-notebook-cell:/home/skewballfox/Workspace/Classes/NumericAnalysis/NumericalAnalysisNotebooks/src/HW3.ipynb#ch0000004?line=3'>4</a>\u001b[0m \u001b[39mfrom\u001b[39;00m \u001b[39mmatplotlib\u001b[39;00m\u001b[39m.\u001b[39;00m\u001b[39mpyplot\u001b[39;00m \u001b[39mimport\u001b[39;00m plot\n\u001b[0;32m----> <a href='vscode-notebook-cell:/home/skewballfox/Workspace/Classes/NumericAnalysis/NumericalAnalysisNotebooks/src/HW3.ipynb#ch0000004?line=4'>5</a>\u001b[0m \u001b[39mfrom\u001b[39;00m \u001b[39mutil\u001b[39;00m \u001b[39mimport\u001b[39;00m newton_polynomial\n",
      "File \u001b[0;32m~/Workspace/Classes/NumericAnalysis/NumericalAnalysisNotebooks/src/util.py:124\u001b[0m, in \u001b[0;36m<module>\u001b[0;34m\u001b[0m\n\u001b[1;32m    115\u001b[0m     \u001b[39mreturn\u001b[39;00m (u, v)\n\u001b[1;32m    118\u001b[0m \u001b[39m# credits to the medium post on polynomial interpolation in python\u001b[39;00m\n\u001b[1;32m    119\u001b[0m \u001b[39m# https://towardsdatascience.com/polynomial-interpolation-3463ea4b63dd\u001b[39;00m\n\u001b[1;32m    122\u001b[0m \u001b[39mdef\u001b[39;00m \u001b[39m_poly_newton_coefficient\u001b[39m(\n\u001b[1;32m    123\u001b[0m     x: np\u001b[39m.\u001b[39mndarray \u001b[39m|\u001b[39m List, y: np\u001b[39m.\u001b[39mndarray \u001b[39m|\u001b[39m List\n\u001b[0;32m--> 124\u001b[0m ) \u001b[39m-\u001b[39m\u001b[39m>\u001b[39m np\u001b[39m.\u001b[39;49mndarray[np\u001b[39m.\u001b[39;49mfloat64]:\n\u001b[1;32m    125\u001b[0m     \u001b[39m\"\"\"\u001b[39;00m\n\u001b[1;32m    126\u001b[0m \u001b[39m    x: list or np array contanining x data points\u001b[39;00m\n\u001b[1;32m    127\u001b[0m \u001b[39m    y: list or np array contanining y data points\u001b[39;00m\n\u001b[1;32m    128\u001b[0m \u001b[39m    \"\"\"\u001b[39;00m\n\u001b[1;32m    130\u001b[0m     m \u001b[39m=\u001b[39m \u001b[39mlen\u001b[39m(x)\n",
      "\u001b[0;31mTypeError\u001b[0m: Too few arguments for numpy.ndarray"
     ]
    }
   ],
   "source": [
    "import numpy as np\n",
    "import sympy as sp\n",
    "import math \n",
    "from matplotlib.pyplot import plot\n",
    "from util import newton_polynomial"
   ]
  },
  {
   "cell_type": "markdown",
   "metadata": {},
   "source": [
    "# 3.1\n",
    "\n",
    "For the given functions $f(x)$, let $x_0 = 0, x_1 = 0.5, x_2 = 1$. Construct interpolation polynomials of degree at most one and at most two to approximate $f (0.4)$, and find the absolute error."
   ]
  },
  {
   "cell_type": "markdown",
   "metadata": {},
   "source": [
    "a) $f(x) = \\cos(x)$"
   ]
  },
  {
   "cell_type": "code",
   "execution_count": 11,
   "metadata": {},
   "outputs": [
    {
     "data": {
      "text/latex": [
       "$\\displaystyle 1 + O\\left(x^{2}\\right)$"
      ],
      "text/plain": [
       "1 + O(x**2)"
      ]
     },
     "execution_count": 11,
     "metadata": {},
     "output_type": "execute_result"
    }
   ],
   "source": [
    "x=sp.symbols('x',real=True)\n",
    "f= sp.cos(x)\n",
    "sp.series(f,x,n=2)\n",
    "#xvals= np.array([0,.5,1])\n",
    "#yvals=np.array([f(x) for x in xvals])\n",
    "\n"
   ]
  },
  {
   "cell_type": "markdown",
   "metadata": {},
   "source": [
    "b) $f(x) = \\ln(1+x)$"
   ]
  },
  {
   "cell_type": "markdown",
   "metadata": {},
   "source": [
    "# 3.8"
   ]
  },
  {
   "cell_type": "code",
   "execution_count": null,
   "metadata": {},
   "outputs": [],
   "source": []
  },
  {
   "cell_type": "markdown",
   "metadata": {},
   "source": [
    "# 3.10"
   ]
  },
  {
   "cell_type": "code",
   "execution_count": null,
   "metadata": {},
   "outputs": [],
   "source": []
  },
  {
   "cell_type": "code",
   "execution_count": 12,
   "metadata": {},
   "outputs": [
    {
     "name": "stdout",
     "output_type": "stream",
     "text": [
      "-38\n"
     ]
    }
   ],
   "source": [
    "p=lambda x: 1-x+x*(x+1)-2*x*(x+1)*(x-1)\n",
    "print(p(3))"
   ]
  }
 ],
 "metadata": {
  "kernelspec": {
   "display_name": "Python 3.10.4 64-bit",
   "language": "python",
   "name": "python3"
  },
  "language_info": {
   "codemirror_mode": {
    "name": "ipython",
    "version": 3
   },
   "file_extension": ".py",
   "mimetype": "text/x-python",
   "name": "python",
   "nbconvert_exporter": "python",
   "pygments_lexer": "ipython3",
   "version": "3.10.4"
  },
  "orig_nbformat": 4,
  "vscode": {
   "interpreter": {
    "hash": "e7370f93d1d0cde622a1f8e1c04877d8463912d04d973331ad4851f04de6915a"
   }
  }
 },
 "nbformat": 4,
 "nbformat_minor": 2
}
