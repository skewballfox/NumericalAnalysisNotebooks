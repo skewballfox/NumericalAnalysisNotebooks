{
 "cells": [
  {
   "cell_type": "code",
   "execution_count": 17,
   "metadata": {},
   "outputs": [],
   "source": [
    "import numpy as np\n",
    "import sympy as sp\n",
    "from scipy.interpolate import approximate_taylor_polynomial\n",
    "import math\n"
   ]
  },
  {
   "cell_type": "code",
   "execution_count": 3,
   "metadata": {},
   "outputs": [
    {
     "data": {
      "text/plain": [
       "array([ 0.83108844,  0.81987769,  0.80863664,  0.79736577,  0.78606556,\n",
       "        0.77473648,  0.76337898,  0.75199353,  0.74058057,  0.72914056,\n",
       "        0.71767392,  0.7061811 ,  0.69466253,  0.68311862,  0.67154979,\n",
       "        0.65995647,  0.64833905,  0.63669793,  0.62503353,  0.61334622,\n",
       "        0.6016364 ,  0.58990445,  0.57815075,  0.56637567,  0.55457959,\n",
       "        0.54276286,  0.53092585,  0.51906891,  0.50719239,  0.49529665,\n",
       "        0.48338202,  0.47144885,  0.45949747,  0.4475282 ,  0.43554138,\n",
       "        0.42353734,  0.41151638,  0.39947882,  0.38742498,  0.37535516,\n",
       "        0.36326967,  0.3511688 ,  0.33905286,  0.32692214,  0.31477693,\n",
       "        0.30261751,  0.29044416,  0.27825718,  0.26605682,  0.25384337,\n",
       "        0.2416171 ,  0.22937827,  0.21712715,  0.204864  ,  0.19258907,\n",
       "        0.18030262,  0.1680049 ,  0.15569616,  0.14337664,  0.13104659,\n",
       "        0.11870626,  0.10635586,  0.09399565,  0.08162585,  0.06924669,\n",
       "        0.0568584 ,  0.0444612 ,  0.03205531,  0.01964096,  0.00721835,\n",
       "       -0.00521229, -0.01765076, -0.03009685, -0.04255034, -0.05501105,\n",
       "       -0.06747875, -0.07995326, -0.09243438, -0.10492191, -0.11741566,\n",
       "       -0.12991544, -0.14242106, -0.15493233, -0.16744907, -0.17997109,\n",
       "       -0.19249822, -0.20503028, -0.21756708, -0.23010847, -0.24265426,\n",
       "       -0.25520428, -0.26775837, -0.28031636, -0.29287808, -0.30544337,\n",
       "       -0.31801207, -0.33058402, -0.34315907, -0.35573705, -0.36831781])"
      ]
     },
     "execution_count": 3,
     "metadata": {},
     "output_type": "execute_result"
    }
   ],
   "source": [
    "vals=np.linspace(5,7,num=100)\n",
    "x=sp.symbols('x',real=True)\n",
    "f=x-sp.ln(x)**3\n",
    "g=sp.lambdify(x,f,\"numpy\")\n",
    "g(vals)"
   ]
  },
  {
   "cell_type": "markdown",
   "metadata": {},
   "source": [
    "# 1.2\n",
    "## a,b"
   ]
  },
  {
   "cell_type": "code",
   "execution_count": 41,
   "metadata": {},
   "outputs": [
    {
     "name": "stdout",
     "output_type": "stream",
     "text": [
      "0.180000000000000\n",
      "0.00533561490967804\n",
      "0.0132181359604474\n"
     ]
    }
   ],
   "source": [
    "x=sp.symbols('x',real=True)\n",
    "xi=sp.symbols('xi',real=True)\n",
    "h=lambda n: 5*n*np.cos(3*n)-(1-n)**2\n",
    "f= 5*x*sp.cos(3*x)-(1-x)**2\n",
    "fp = sp.diff(f,x)\n",
    "fpp = sp.diff(fp,x)\n",
    "fp3=sp.diff(fpp,x)\n",
    "fp4=sp.diff(fp3,x)\n",
    "\n",
    "taylorpoly3= f.subs(x,0) + fp.subs(x,0)*x + fpp.subs(x,0)*x**2/math.factorial(2) + fp3.subs(x,0)*x**3/math.factorial(3)\n",
    "remainder3=fp4.subs(x,xi)*x**4/math.factorial(4)\n",
    "print(taylorpoly3.subs(x,.2).simplify())\n",
    "\n",
    "#ideally these should be the same, I think\n",
    "print(abs(f.subs(x,.2)-taylorpoly3.subs(x,.2).simplify()))\n",
    "print(remainder3.subs(x,.2).subs(xi,(0+.2)/2).simplify())\n"
   ]
  },
  {
   "cell_type": "markdown",
   "metadata": {},
   "source": [
    "## c,d"
   ]
  },
  {
   "cell_type": "code",
   "execution_count": 44,
   "metadata": {},
   "outputs": [
    {
     "name": "stdout",
     "output_type": "stream",
     "text": [
      "0.185400000000000\n",
      "6.43850903219445e-5\n",
      "-0.000222449996164218\n"
     ]
    }
   ],
   "source": [
    "fp5 = sp.diff(fp4,x)\n",
    "fp6 = sp.diff(fp5,x)\n",
    "taylorpoly5= f.subs(x,0) + fp.subs(x,0)*x + fpp.subs(x,0)*x**2/math.factorial(2) + fp3.subs(x,0)*x**3/math.factorial(3) + fp4.subs(x,0)*x**4/math.factorial(4) + fp5.subs(x,0)*x**5/math.factorial(5)\n",
    "\n",
    "remainder5=fp6.subs(x,xi)*x**6/math.factorial(6)\n",
    "\n",
    "\n",
    "print(taylorpoly5.subs(x,.2).simplify())\n",
    "\n",
    "#ideally these should be the same, I think\n",
    "print(abs(f.subs(x,.2)-taylorpoly5.subs(x,.2).simplify()))\n",
    "print(remainder5.subs(x,.2).subs(xi,(0+.2)/2).simplify())"
   ]
  }
 ],
 "metadata": {
  "interpreter": {
   "hash": "e7370f93d1d0cde622a1f8e1c04877d8463912d04d973331ad4851f04de6915a"
  },
  "kernelspec": {
   "display_name": "Python 3.10.4 64-bit",
   "language": "python",
   "name": "python3"
  },
  "language_info": {
   "codemirror_mode": {
    "name": "ipython",
    "version": 3
   },
   "file_extension": ".py",
   "mimetype": "text/x-python",
   "name": "python",
   "nbconvert_exporter": "python",
   "pygments_lexer": "ipython3",
   "version": "3.10.4"
  },
  "orig_nbformat": 4,
  "vscode": {
   "interpreter": {
    "hash": "e7370f93d1d0cde622a1f8e1c04877d8463912d04d973331ad4851f04de6915a"
   }
  }
 },
 "nbformat": 4,
 "nbformat_minor": 2
}
