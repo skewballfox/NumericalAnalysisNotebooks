{
 "cells": [
  {
   "cell_type": "code",
   "execution_count": 1,
   "metadata": {},
   "outputs": [],
   "source": [
    "import numpy as np\n",
    "import sympy as sp\n",
    "import math \n",
    "from util import bisect, fixed_iter, newton_horner,bairstow\n",
    "from table_util import bisect_with_table\n",
    "from tabulate import tabulate\n",
    "from matplotlib.pyplot import plot\n",
    "from plotting_tools import centered_plot\n",
    "from scipy.optimize import fixed_point, bisect as scipy_bisect\n",
    "from typing import List, Callable"
   ]
  },
  {
   "cell_type": "markdown",
   "metadata": {},
   "source": [
    "# 2.2"
   ]
  },
  {
   "cell_type": "code",
   "execution_count": 2,
   "metadata": {},
   "outputs": [
    {
     "name": "stdout",
     "output_type": "stream",
     "text": [
      "3x-e^x\n",
      "  iter       p_n      |p-p_n|    |p-p_n-1|\n",
      "------  --------  -----------  -----------\n",
      "     1  0.5       0.119061     0\n",
      "     2  0.75      0.130939     0.119061\n",
      "     3  0.625     0.00593871   0.130939\n",
      "     4  0.5625    0.0565613    0.00593871\n",
      "     5  0.59375   0.0253113    0.0565613\n",
      "     6  0.609375  0.00968629   0.0253113\n",
      "     7  0.617188  0.00187379   0.00968629\n",
      "     8  0.621094  0.00203246   0.00187379\n",
      "     9  0.619141  7.93383e-05  0.00203246\n",
      "    10  0.618164  0.000897224  7.93383e-05\n",
      "\n",
      "\n",
      "2xCos(2x)-(x+1)^2\n",
      "  iter        p_n      |p-p_n|    |p-p_n-1|\n",
      "------  ---------  -----------  -----------\n",
      "     1  -0.5       0.29816      0\n",
      "     2  -0.75      0.04816      0.29816\n",
      "     3  -0.875     0.07684      0.04816\n",
      "     4  -0.8125    0.01434      0.07684\n",
      "     5  -0.78125   0.01691      0.01434\n",
      "     6  -0.796875  0.00128496   0.01691\n",
      "     7  -0.804688  0.00652754   0.00128496\n",
      "     8  -0.800781  0.00262129   0.00652754\n",
      "     9  -0.798828  0.000668164  0.00262129\n",
      "    10  -0.797852  0.000308399  0.000668164\n"
     ]
    }
   ],
   "source": [
    "first_function = lambda x: 3*x - np.e**x\n",
    "\n",
    "second_function = lambda x: 2*x * np.cos(2*x) - (x+1)**2\n",
    "# using scipy's bisect to get a close approximation of p\n",
    "# to use when calculating the error of p* within my implementation of bisect\n",
    "first_p=scipy_bisect(first_function,0,1)\n",
    "second_p=scipy_bisect(second_function,-1,0)\n",
    "print(\"3x-e^x\")\n",
    "print(tabulate(bisect_with_table(first_function, 0,1,.000001, 10,first_p),headers=\"keys\"))\n",
    "print(\"\\n\\n2xCos(2x)-(x+1)^2\")\n",
    "print(tabulate(bisect_with_table(second_function, -1,0,.000001, 10,second_p),headers=\"keys\"))\n"
   ]
  },
  {
   "cell_type": "markdown",
   "metadata": {},
   "source": [
    "# 2.3"
   ]
  },
  {
   "cell_type": "code",
   "execution_count": 3,
   "metadata": {},
   "outputs": [
    {
     "name": "stdout",
     "output_type": "stream",
     "text": [
      "[1.7099759466766968, 1.7099759466766968, 1.7099759466766968, 1.7099759466766968, 1.7099759466766968]\n"
     ]
    }
   ],
   "source": [
    "f=lambda x: x**3 - 5\n",
    "\n",
    "g2=lambda x: np.sqrt(5/x)\n",
    "g3=lambda x: 5**(1/3)\n",
    "xvals=np.linspace(1,2,num=100)\n",
    "\n",
    "first_convergent_sequence=fixed_iter(g2,1.5,5)\n",
    "second_technically_correct_sequence=fixed_iter(g3,1.5,5)\n",
    "\n",
    "print(second_technically_correct_sequence)"
   ]
  },
  {
   "cell_type": "markdown",
   "metadata": {},
   "source": [
    "# 2.4"
   ]
  },
  {
   "cell_type": "code",
   "execution_count": 4,
   "metadata": {},
   "outputs": [
    {
     "data": {
      "text/plain": [
       "array([0., 0., 0.])"
      ]
     },
     "execution_count": 4,
     "metadata": {},
     "output_type": "execute_result"
    }
   ],
   "source": [
    "epsilon=.5\n",
    "keplers_g=lambda x: epsilon * np.sin(x)\n",
    "fixed_iter(keplers_g,2,5)\n",
    "fixed_point(keplers_g,[1,np.pi/2,2],method=\"iteration\",maxiter=1100)\n"
   ]
  },
  {
   "cell_type": "code",
   "execution_count": null,
   "metadata": {},
   "outputs": [],
   "source": []
  },
  {
   "cell_type": "markdown",
   "metadata": {},
   "source": [
    "# 2.7"
   ]
  },
  {
   "cell_type": "code",
   "execution_count": 5,
   "metadata": {},
   "outputs": [
    {
     "name": "stdout",
     "output_type": "stream",
     "text": [
      "4.0741968888541775\n",
      "(0.5454545454545454, -1.0)\n"
     ]
    }
   ],
   "source": [
    "f=lambda x: 3*(x**5) - 7*(x**4) - 5*(x**3) + (x**2) - 8*x + 2\n",
    "#I would try to come up with some clever way to extract the coefficients\n",
    "#but it's late and I'm still a bit behind\n",
    "coefficients=[3,-7,-5,1,-8,2]\n",
    "x0=4\n",
    "x=newton_horner(coefficients,x0,10**-12,1000)\n",
    "print(x)\n",
    "\n",
    "print(bairstow(coefficients,0,-1,10**-12,1000))\n",
    "#print(bisect(f,-1,1,.0005,1000))\n",
    "#centered_plot(f,-1,1)\n",
    "\n"
   ]
  }
 ],
 "metadata": {
  "kernelspec": {
   "display_name": "Python 3.10.4 64-bit",
   "language": "python",
   "name": "python3"
  },
  "language_info": {
   "codemirror_mode": {
    "name": "ipython",
    "version": 3
   },
   "file_extension": ".py",
   "mimetype": "text/x-python",
   "name": "python",
   "nbconvert_exporter": "python",
   "pygments_lexer": "ipython3",
   "version": "3.10.4"
  },
  "orig_nbformat": 4,
  "vscode": {
   "interpreter": {
    "hash": "767d51c1340bd893661ea55ea3124f6de3c7a262a8b4abca0554b478b1e2ff90"
   }
  }
 },
 "nbformat": 4,
 "nbformat_minor": 2
}
